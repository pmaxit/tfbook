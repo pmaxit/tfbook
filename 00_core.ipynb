{
 "cells": [
  {
   "cell_type": "code",
   "execution_count": 2,
   "metadata": {},
   "outputs": [],
   "source": [
    "# default_exp core"
   ]
  },
  {
   "cell_type": "markdown",
   "metadata": {},
   "source": [
    "# module name here\n",
    "\n",
    "> API details."
   ]
  },
  {
   "cell_type": "code",
   "execution_count": 3,
   "metadata": {},
   "outputs": [],
   "source": [
    "#hide\n",
    "from nbdev.showdoc import *"
   ]
  },
  {
   "cell_type": "code",
   "execution_count": null,
   "metadata": {},
   "outputs": [],
   "source": [
    "# export\n",
    "def hello_world():\n",
    "    print('Hello world')"
   ]
  },
  {
   "cell_type": "code",
   "execution_count": 4,
   "metadata": {},
   "outputs": [],
   "source": [
    "# export \n",
    "class Ability:\n",
    "    ability_types = ['fire', 'water']\n",
    "\n",
    "    def __init__(self, damage, damage_type):\n",
    "        self.damage = damage\n",
    "        self.damage_type = damage_type\n",
    "\n",
    "    def __str__(self):\n",
    "        if self.damage_type == 'fire':\n",
    "            return 'a jet of fire shot towards'\n",
    "        elif self.damage_type == 'water':\n",
    "            return 'ice cold water is flung towards'"
   ]
  },
  {
   "cell_type": "code",
   "execution_count": 10,
   "metadata": {},
   "outputs": [],
   "source": [
    "# export \n",
    "class Character:\n",
    "    def __init__(self, name, max_health, ability):\n",
    "        self.name = name\n",
    "        self.max_health = max_health\n",
    "        self.current_health = max_health\n",
    "        self.ability = ability\n",
    "        self.level = 1\n",
    "\n",
    "    def __str__(self):\n",
    "        return (f\"\"\"\\\n",
    "            {self.name}'s character health: {self.current_health}\n",
    "            {self.name}'s max health: {self.max_health}\n",
    "            {self.name}'s Ability damage: {self.ability.damage}\n",
    "            {self.name}'s Ability type:  {self.ability.damage_type}\n",
    "            \"\"\")\n",
    "\n",
    "\n",
    "class Mage(Character):\n",
    "    def __init__(self, name, max_health, ability):\n",
    "        super().__init__(name, max_health, ability)\n",
    "\n",
    "    def attack(self, target):\n",
    "        print(f\"From {self.name}, {self.ability} {target.name}\")\n",
    "        target.current_health -= self.ability.damage\n",
    "\n",
    "    def level_up(self):\n",
    "        self.level += 1\n",
    "        self.max_health = self.max_health * self.level\n",
    "        self.current_health = self.max_health\n",
    "        self.ability.damage = self.ability.damage * self.level"
   ]
  },
  {
   "cell_type": "code",
   "execution_count": 11,
   "metadata": {},
   "outputs": [
    {
     "name": "stdout",
     "output_type": "stream",
     "text": [
      "            Puneet's character health: 100\n",
      "            Puneet's max health: 100\n",
      "            Puneet's Ability damage: 10\n",
      "            Puneet's Ability type:  water\n",
      "            \n"
     ]
    }
   ],
   "source": [
    "mage = Mage(\"Puneet\", 100, Ability(10, \"water\"))\n",
    "print(mage)"
   ]
  },
  {
   "cell_type": "code",
   "execution_count": 12,
   "metadata": {},
   "outputs": [
    {
     "name": "stdout",
     "output_type": "stream",
     "text": [
      "From Puneet, ice cold water is flung towards Puneet\n"
     ]
    }
   ],
   "source": [
    "mage.attack(mage)"
   ]
  },
  {
   "cell_type": "code",
   "execution_count": 13,
   "metadata": {},
   "outputs": [
    {
     "name": "stdout",
     "output_type": "stream",
     "text": [
      "Converted 00_core.ipynb.\n",
      "Converted index.ipynb.\n"
     ]
    }
   ],
   "source": [
    "from nbdev.export import notebook2script; notebook2script()"
   ]
  },
  {
   "cell_type": "code",
   "execution_count": null,
   "metadata": {},
   "outputs": [],
   "source": []
  }
 ],
 "metadata": {
  "kernelspec": {
   "display_name": "Python 3",
   "language": "python",
   "name": "python3"
  },
  "language_info": {
   "codemirror_mode": {
    "name": "ipython",
    "version": 3
   },
   "file_extension": ".py",
   "mimetype": "text/x-python",
   "name": "python",
   "nbconvert_exporter": "python",
   "pygments_lexer": "ipython3",
   "version": "3.9.5"
  }
 },
 "nbformat": 4,
 "nbformat_minor": 2
}
