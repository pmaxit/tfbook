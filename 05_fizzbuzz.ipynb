{
 "cells": [
  {
   "cell_type": "markdown",
   "metadata": {},
   "source": [
    "# FizzBuzz in TensorFlow"
   ]
  },
  {
   "cell_type": "markdown",
   "metadata": {},
   "source": [
    "## Dataset\n",
    "\n",
    "First, let's try to get the dataset for our problem. Here is a simple one-liner to prepare the training data"
   ]
  },
  {
   "cell_type": "code",
   "execution_count": null,
   "metadata": {},
   "outputs": [],
   "source": [
    "def get_training_data(min_range:int = 1, max_range:int = 100):\n",
    "    return {x: 'fizzbuzz' if x % 15==0 else \"buzz\" if x%5==0 else \"fizz\" if x%3 == 0 else x for x in range(min_range,max_range)}"
   ]
  },
  {
   "cell_type": "code",
   "execution_count": null,
   "metadata": {},
   "outputs": [],
   "source": [
    "data = get_training_data(101, 1024)"
   ]
  },
  {
   "cell_type": "markdown",
   "metadata": {},
   "source": [
    "## Machine Learning"
   ]
  },
  {
   "cell_type": "code",
   "execution_count": null,
   "metadata": {},
   "outputs": [],
   "source": [
    "import numpy as np\n",
    "from sklearn.model_selection import train_test_split\n",
    "from keras.preprocessing.sequence import pad_sequences"
   ]
  },
  {
   "cell_type": "code",
   "execution_count": null,
   "metadata": {},
   "outputs": [],
   "source": [
    "labels = ['Number', 'Fizz','Buzz','FizzBuzz']\n",
    "\n",
    "def convert_to_vector(num):\n",
    "    n = num\n",
    "    out = []\n",
    "    while n > 0:\n",
    "        out.append(n%10)\n",
    "        n //= 10\n",
    "    \n",
    "    return out[::-1]\n",
    "\n",
    "def convert_to_int(label):\n",
    "    if label in labels:\n",
    "        return labels.index(label)\n",
    "    else:\n",
    "        return 0\n",
    "\n",
    "def fizz_buzz_pred(i, prediction):\n",
    "    return [str(i), \"fizz\", \"buzz\", \"fizzbuzz\"][prediction]\n",
    "\n"
   ]
  },
  {
   "cell_type": "code",
   "execution_count": null,
   "metadata": {},
   "outputs": [],
   "source": [
    "X = list(map(convert_to_vector, data.keys()))\n",
    "y = list(map(convert_to_int, data.values()))\n",
    "\n",
    "\n",
    "\n",
    "\n",
    "X_vector = pad_sequences(np.array(X, dtype=object))\n",
    "y_vector = np.array(y)\n",
    "\n",
    "\n",
    "X_train, X_test, y_train, y_test = train_test_split(X_vector,y_vector, test_size=0.2,shuffle=True)"
   ]
  },
  {
   "cell_type": "markdown",
   "metadata": {},
   "source": [
    "## Training"
   ]
  },
  {
   "cell_type": "code",
   "execution_count": null,
   "metadata": {},
   "outputs": [],
   "source": [
    "import tensorflow as tf\n",
    "from tensorflow.keras.layers import *"
   ]
  },
  {
   "cell_type": "code",
   "execution_count": null,
   "metadata": {},
   "outputs": [
    {
     "name": "stderr",
     "output_type": "stream",
     "text": [
      "2021-12-12 20:21:12.965335: I tensorflow/stream_executor/cuda/cuda_gpu_executor.cc:939] successful NUMA node read from SysFS had negative value (-1), but there must be at least one NUMA node, so returning NUMA node zero\n",
      "2021-12-12 20:21:12.965875: I tensorflow/stream_executor/cuda/cuda_gpu_executor.cc:939] successful NUMA node read from SysFS had negative value (-1), but there must be at least one NUMA node, so returning NUMA node zero\n",
      "2021-12-12 20:21:12.969578: I tensorflow/stream_executor/cuda/cuda_gpu_executor.cc:939] successful NUMA node read from SysFS had negative value (-1), but there must be at least one NUMA node, so returning NUMA node zero\n",
      "2021-12-12 20:21:12.970094: I tensorflow/stream_executor/cuda/cuda_gpu_executor.cc:939] successful NUMA node read from SysFS had negative value (-1), but there must be at least one NUMA node, so returning NUMA node zero\n",
      "2021-12-12 20:21:12.970582: I tensorflow/stream_executor/cuda/cuda_gpu_executor.cc:939] successful NUMA node read from SysFS had negative value (-1), but there must be at least one NUMA node, so returning NUMA node zero\n",
      "2021-12-12 20:21:12.971063: I tensorflow/stream_executor/cuda/cuda_gpu_executor.cc:939] successful NUMA node read from SysFS had negative value (-1), but there must be at least one NUMA node, so returning NUMA node zero\n",
      "2021-12-12 20:21:12.971760: I tensorflow/core/platform/cpu_feature_guard.cc:151] This TensorFlow binary is optimized with oneAPI Deep Neural Network Library (oneDNN) to use the following CPU instructions in performance-critical operations:  AVX2 FMA\n",
      "To enable them in other operations, rebuild TensorFlow with the appropriate compiler flags.\n",
      "2021-12-12 20:21:13.117265: I tensorflow/stream_executor/cuda/cuda_gpu_executor.cc:939] successful NUMA node read from SysFS had negative value (-1), but there must be at least one NUMA node, so returning NUMA node zero\n",
      "2021-12-12 20:21:13.117719: I tensorflow/stream_executor/cuda/cuda_gpu_executor.cc:939] successful NUMA node read from SysFS had negative value (-1), but there must be at least one NUMA node, so returning NUMA node zero\n",
      "2021-12-12 20:21:13.118142: I tensorflow/stream_executor/cuda/cuda_gpu_executor.cc:939] successful NUMA node read from SysFS had negative value (-1), but there must be at least one NUMA node, so returning NUMA node zero\n",
      "2021-12-12 20:21:13.118539: I tensorflow/stream_executor/cuda/cuda_gpu_executor.cc:939] successful NUMA node read from SysFS had negative value (-1), but there must be at least one NUMA node, so returning NUMA node zero\n",
      "2021-12-12 20:21:13.118947: I tensorflow/stream_executor/cuda/cuda_gpu_executor.cc:939] successful NUMA node read from SysFS had negative value (-1), but there must be at least one NUMA node, so returning NUMA node zero\n",
      "2021-12-12 20:21:13.119344: I tensorflow/stream_executor/cuda/cuda_gpu_executor.cc:939] successful NUMA node read from SysFS had negative value (-1), but there must be at least one NUMA node, so returning NUMA node zero\n",
      "2021-12-12 20:21:13.658966: I tensorflow/stream_executor/cuda/cuda_gpu_executor.cc:939] successful NUMA node read from SysFS had negative value (-1), but there must be at least one NUMA node, so returning NUMA node zero\n",
      "2021-12-12 20:21:13.659432: I tensorflow/stream_executor/cuda/cuda_gpu_executor.cc:939] successful NUMA node read from SysFS had negative value (-1), but there must be at least one NUMA node, so returning NUMA node zero\n",
      "2021-12-12 20:21:13.659852: I tensorflow/stream_executor/cuda/cuda_gpu_executor.cc:939] successful NUMA node read from SysFS had negative value (-1), but there must be at least one NUMA node, so returning NUMA node zero\n",
      "2021-12-12 20:21:13.660258: I tensorflow/stream_executor/cuda/cuda_gpu_executor.cc:939] successful NUMA node read from SysFS had negative value (-1), but there must be at least one NUMA node, so returning NUMA node zero\n",
      "2021-12-12 20:21:13.660666: I tensorflow/stream_executor/cuda/cuda_gpu_executor.cc:939] successful NUMA node read from SysFS had negative value (-1), but there must be at least one NUMA node, so returning NUMA node zero\n",
      "2021-12-12 20:21:13.661068: I tensorflow/core/common_runtime/gpu/gpu_device.cc:1525] Created device /job:localhost/replica:0/task:0/device:GPU:0 with 9643 MB memory:  -> device: 0, name: NVIDIA GeForce RTX 2080 Ti, pci bus id: 0000:05:00.0, compute capability: 7.5\n",
      "2021-12-12 20:21:13.661274: I tensorflow/stream_executor/cuda/cuda_gpu_executor.cc:939] successful NUMA node read from SysFS had negative value (-1), but there must be at least one NUMA node, so returning NUMA node zero\n",
      "2021-12-12 20:21:13.661710: I tensorflow/core/common_runtime/gpu/gpu_device.cc:1525] Created device /job:localhost/replica:0/task:0/device:GPU:1 with 10017 MB memory:  -> device: 1, name: NVIDIA GeForce RTX 3060, pci bus id: 0000:0b:00.0, compute capability: 8.6\n"
     ]
    }
   ],
   "source": [
    "\n",
    "embed_size = 3\n",
    "sequence_length =4\n",
    "model = tf.keras.Sequential()\n",
    "model.add(Input(shape=(sequence_length,)))\n",
    "\n",
    "model.add(Embedding(10, embed_size, trainable=True ))\n",
    "\n",
    "model.add(Conv1D(64, kernel_size=2, padding='same',kernel_initializer=tf.keras.initializers.HeNormal(), activation='relu'))\n",
    "model.add(MaxPool1D(pool_size=2, strides=1, padding='valid'))\n",
    "model.add(GlobalAveragePooling1D())\n",
    "model.add(Dense(32, activation='relu',kernel_initializer=tf.keras.initializers.HeNormal()))\n",
    "model.add(Dropout(0.2))\n",
    "model.add(Dense(4, activation='softmax'))\n",
    "\n",
    "model.compile(loss='sparse_categorical_crossentropy', optimizer='rmsprop', metrics=['sparse_categorical_accuracy'])"
   ]
  },
  {
   "cell_type": "code",
   "execution_count": null,
   "metadata": {},
   "outputs": [],
   "source": [
    "ACCURACY_THRESHOLD = 0.99\n",
    "class myCallback(tf.keras.callbacks.Callback):\n",
    "    def on_epoch_end(self, epoch, logs={}):\n",
    "        if(logs.get('val_sparse_categorical_accuracy') > ACCURACY_THRESHOLD):\n",
    "            print('Reached %2.2f%% accuracy, on the epoch %d so stopping training' %(ACCURACY_THRESHOLD, epoch))\n",
    "            self.model.stop_training=True"
   ]
  },
  {
   "cell_type": "code",
   "execution_count": null,
   "metadata": {},
   "outputs": [],
   "source": [
    "cb = myCallback()\n",
    "\n",
    "#model.fit(X_train, y_train, validation_data=(X_test, y_test), epochs=4000, batch_size=64)"
   ]
  },
  {
   "cell_type": "code",
   "execution_count": null,
   "metadata": {},
   "outputs": [
    {
     "name": "stdout",
     "output_type": "stream",
     "text": [
      "6/6 [==============================] - 0s 2ms/step - loss: 0.8100 - sparse_categorical_accuracy: 1.0000\n"
     ]
    },
    {
     "data": {
      "text/plain": [
       "[0.8100208044052124, 1.0]"
      ]
     },
     "execution_count": null,
     "metadata": {},
     "output_type": "execute_result"
    }
   ],
   "source": [
    "model.evaluate(X_test, y_test)"
   ]
  },
  {
   "cell_type": "markdown",
   "metadata": {},
   "source": [
    "## Evaluation"
   ]
  },
  {
   "cell_type": "code",
   "execution_count": null,
   "metadata": {},
   "outputs": [
    {
     "name": "stdout",
     "output_type": "stream",
     "text": [
      "1 1 1 0.43005535\n",
      "2 2 2 0.41603026\n",
      "3 3 fizz 0.4052864\n",
      "4 4 4 0.4260611\n",
      "5 5 buzz 0.42870843\n",
      "6 6 fizz 0.40447542\n",
      "7 7 7 0.43411493\n",
      "8 8 8 0.4061676\n",
      "9 9 fizz 0.41737923\n",
      "10 10 buzz 0.4487515\n",
      "11 11 11 0.43635663\n",
      "12 12 fizz 0.4291185\n",
      "13 13 13 0.4609857\n",
      "14 14 14 0.43829203\n",
      "15 15 fizzbuzz 0.4400162\n",
      "16 16 16 0.44508687\n",
      "17 17 17 0.4766092\n",
      "18 18 fizz 0.45149398\n",
      "19 19 19 0.47132048\n",
      "20 20 buzz 0.42525625\n",
      "21 21 fizz 0.42843023\n",
      "22 22 22 0.4095408\n",
      "23 23 23 0.45085606\n",
      "24 24 fizz 0.42478704\n",
      "25 25 buzz 0.42848253\n",
      "26 26 26 0.42830172\n",
      "27 27 fizz 0.4685334\n",
      "28 28 28 0.442295\n",
      "29 29 29 0.4575329\n",
      "30 30 fizzbuzz 0.41230696\n",
      "31 31 31 0.44853008\n",
      "32 32 32 0.44230172\n",
      "33 33 fizz 0.40443528\n",
      "34 34 34 0.4501929\n",
      "35 35 buzz 0.45186588\n",
      "36 36 fizz 0.4201126\n",
      "37 37 37 0.42734745\n",
      "38 38 38 0.40468997\n",
      "39 39 fizz 0.41574597\n",
      "40 40 buzz 0.44353008\n",
      "41 41 41 0.42822433\n",
      "42 42 fizz 0.42284435\n",
      "43 43 43 0.46070608\n",
      "44 44 44 0.4284737\n",
      "45 45 fizzbuzz 0.43036503\n",
      "46 46 46 0.43489158\n",
      "47 47 47 0.47919744\n",
      "48 48 fizz 0.45178995\n",
      "49 49 49 0.47126514\n",
      "50 50 buzz 0.44680402\n",
      "51 51 fizz 0.43116996\n",
      "52 52 52 0.42606586\n",
      "53 53 53 0.4628456\n",
      "54 54 fizz 0.43153375\n",
      "55 55 buzz 0.43323025\n",
      "56 56 56 0.43790975\n",
      "57 57 fizz 0.48148075\n",
      "58 58 58 0.45411673\n",
      "59 59 59 0.47354484\n",
      "60 60 fizzbuzz 0.41550052\n",
      "61 61 61 0.42319417\n",
      "62 62 62 0.41692445\n",
      "63 63 fizz 0.42202878\n",
      "64 64 64 0.41928697\n",
      "65 65 buzz 0.42123556\n",
      "66 66 fizz 0.40604848\n",
      "67 67 67 0.45619348\n",
      "68 68 68 0.42488793\n",
      "69 69 fizz 0.4408884\n",
      "70 70 buzz 0.44358867\n",
      "71 71 71 0.48741958\n",
      "72 72 fizz 0.48156914\n",
      "73 73 73 0.43424344\n",
      "74 74 74 0.49081618\n",
      "75 75 fizzbuzz 0.49239948\n",
      "76 76 76 0.4562708\n",
      "77 77 77 0.44631404\n",
      "78 78 fizz 0.42935926\n",
      "79 79 79 0.43936366\n",
      "80 80 buzz 0.40958223\n",
      "81 81 fizz 0.4506608\n",
      "82 82 82 0.4447071\n",
      "83 83 83 0.40548158\n",
      "84 84 fizz 0.4538679\n",
      "85 85 buzz 0.45547846\n",
      "86 86 86 0.42137462\n",
      "87 87 fizz 0.4209493\n",
      "88 88 88 0.39714321\n",
      "89 89 89 0.41137242\n",
      "90 90 fizzbuzz 0.4243501\n",
      "91 91 91 0.46424747\n",
      "92 92 92 0.45734298\n",
      "93 93 fizz 0.4170825\n",
      "94 94 94 0.46516216\n",
      "95 95 buzz 0.46695206\n",
      "96 96 fizz 0.43381214\n",
      "97 97 97 0.43963313\n",
      "98 98 98 0.41723236\n",
      "99 99 fizz 0.4267323\n",
      "100 100 buzz 0.43153885\n",
      "Accuracy = 0.53\n"
     ]
    }
   ],
   "source": [
    "inputs = np.array(list(range(1,101)))\n",
    "input_vector = list(map(convert_to_vector, inputs))\n",
    "input_vector = pad_sequences(np.array(input_vector, dtype=object), maxlen=sequence_length)\n",
    "\n",
    "predictions = model(input_vector).numpy()\n",
    "\n",
    "\n",
    "def convert_fb(num):\n",
    "    if num % 15 == 0:\n",
    "        return \"fizzbuzz\"\n",
    "    \n",
    "    elif num % 3 == 0:\n",
    "        return \"fizz\"\n",
    "    \n",
    "    elif num % 5 == 0:\n",
    "        return \"buzz\"\n",
    "    \n",
    "    else:\n",
    "        return str(num)\n",
    "    \n",
    "acc = 0\n",
    "total = 0\n",
    "for i,inp in enumerate(inputs):\n",
    "    pred = np.argmax(predictions[i])\n",
    "    print(inp, fizz_buzz_pred(inp, pred), convert_fb(inp), predictions[i][pred])\n",
    "    \n",
    "    acc += 1 if fizz_buzz_pred(inp, pred) == convert_fb(inp) else 0\n",
    "    total += 1\n",
    "    \n",
    "print(f'Accuracy = {acc*1.0 / total}')\n",
    "    \n",
    "    "
   ]
  },
  {
   "cell_type": "code",
   "execution_count": null,
   "metadata": {},
   "outputs": [],
   "source": []
  }
 ],
 "metadata": {
  "kernelspec": {
   "display_name": "Python 3.9.5 64-bit ('venv': virtualenv)",
   "language": "python",
   "name": "python3"
  }
 },
 "nbformat": 4,
 "nbformat_minor": 2
}
