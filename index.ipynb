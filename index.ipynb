{
 "cells": [
  {
   "cell_type": "code",
   "execution_count": null,
   "metadata": {},
   "outputs": [],
   "source": [
    "#hide\n",
    "from tfbook_pages.core import Mage, Ability"
   ]
  },
  {
   "cell_type": "markdown",
   "metadata": {},
   "source": [
    "# Welcome to TFBook\n",
    "\n",
    "\n",
    "> One stop solution for Tensorflow information\n",
    "\n",
    "This notebook will contain examples from Machine Learning domain and their implementation in Tensorflow. This was done part of my learning process but I tried to make it little presentable to be able to share my knowledge with others."
   ]
  },
  {
   "cell_type": "markdown",
   "metadata": {},
   "source": [
    "### How do I get started?\n",
    "\n",
    "We will go through couple of examples"
   ]
  },
  {
   "cell_type": "markdown",
   "metadata": {},
   "source": []
  }
 ],
 "metadata": {
  "kernelspec": {
   "display_name": "Python 3",
   "language": "python",
   "name": "python3"
  }
 },
 "nbformat": 4,
 "nbformat_minor": 2
}
