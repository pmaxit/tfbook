{
 "cells": [
  {
   "cell_type": "code",
   "execution_count": null,
   "metadata": {},
   "outputs": [],
   "source": [
    "#hide\n",
    "from tfbook_pages.core import Mage, Ability"
   ]
  },
  {
   "cell_type": "markdown",
   "metadata": {},
   "source": [
    "# Github Page Link\n",
    "\n",
    "https://pmaxit.github.io/tfbook/"
   ]
  },
  {
   "cell_type": "markdown",
   "metadata": {},
   "source": [
    "# Welcome to TFBook\n",
    "\n",
    "\n",
    "> One stop solution for Tensorflow information\n",
    "\n",
    "This notebook will contain examples from Machine Learning domain and their implementation in Tensorflow. This was done part of my learning process but I tried to make it little presentable to be able to share my knowledge with others."
   ]
  },
  {
   "cell_type": "markdown",
   "metadata": {},
   "source": [
    "### How do I get started?\n",
    "\n",
    "Go through couple of examples. They should be categorized in multiple groups as following:\n",
    "\n",
    "1. Tensorflow\n",
    "  - FizzBuzz\n",
    "2. Transformers\n",
    "  - Bert\n",
    "\n",
    "\n",
    "Although, that's just what I had in mind when I was writing this README.md. Things may change."
   ]
  },
  {
   "cell_type": "markdown",
   "metadata": {},
   "source": []
  }
 ],
 "metadata": {
  "kernelspec": {
   "display_name": "Python 3",
   "language": "python",
   "name": "python3"
  }
 },
 "nbformat": 4,
 "nbformat_minor": 2
}
