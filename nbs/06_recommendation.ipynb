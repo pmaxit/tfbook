{
 "cells": [
  {
   "cell_type": "markdown",
   "id": "18baa304",
   "metadata": {},
   "source": [
    "# Recommendation\n",
    "\n",
    "Using Transformers for recommendation task"
   ]
  },
  {
   "cell_type": "code",
   "execution_count": null,
   "id": "eb7feb29",
   "metadata": {},
   "outputs": [],
   "source": [
    "import sys\n",
    "sys.path.insert(0,'../')"
   ]
  },
  {
   "cell_type": "code",
   "execution_count": null,
   "id": "57815517",
   "metadata": {},
   "outputs": [],
   "source": [
    "from tfbook_pages.layers import MaskSequence"
   ]
  },
  {
   "cell_type": "markdown",
   "id": "05eb2c50",
   "metadata": {},
   "source": [
    "## Dataset\n",
    "\n",
    "Prepare dataset to learn embeddings."
   ]
  },
  {
   "cell_type": "code",
   "execution_count": null,
   "id": "b7330b6d",
   "metadata": {},
   "outputs": [
    {
     "name": "stdout",
     "output_type": "stream",
     "text": [
      "Converted 00_core.ipynb.\n",
      "Converted 01_game.ipynb.\n",
      "Converted 03_tensorflow.ipynb.\n",
      "Converted 05_fizzbuzz.ipynb.\n",
      "Converted 06_recommendation.ipynb.\n",
      "Converted 07_knowledgegraph.ipynb.\n",
      "Converted 08_siamese.ipynb.\n",
      "Converted index.ipynb.\n",
      "Converted lib_layers.py.ipynb.\n",
      "Converted lib_relation_extraction.ipynb.\n",
      "Converted lib_span.ipynb.\n",
      "Converted lib_wikiscrape.ipynb.\n",
      "Converted multihead.ipynb.\n"
     ]
    }
   ],
   "source": [
    "from nbdev.export import notebook2script; notebook2script()"
   ]
  }
 ],
 "metadata": {
  "kernelspec": {
   "display_name": "Python 3 (ipykernel)",
   "language": "python",
   "name": "python3"
  }
 },
 "nbformat": 4,
 "nbformat_minor": 5
}
