{
 "cells": [
  {
   "cell_type": "markdown",
   "metadata": {},
   "source": [
    "# FizzBuzz in TensorFlow"
   ]
  },
  {
   "cell_type": "markdown",
   "metadata": {},
   "source": [
    "## Dataset\n",
    "\n",
    "First, let's try to get the dataset for our problem. Here is a simple one-liner to prepare the training data"
   ]
  },
  {
   "cell_type": "code",
   "execution_count": null,
   "metadata": {},
   "outputs": [],
   "source": [
    "def get_training_data(min_range:int = 1, max_range:int = 100):\n",
    "    return {x: 'fizzbuzz' if x % 15==0 else \"buzz\" if x%5==0 else \"fizz\" if x%3 == 0 else x for x in range(min_range,max_range)}"
   ]
  },
  {
   "cell_type": "code",
   "execution_count": null,
   "metadata": {},
   "outputs": [],
   "source": [
    "data = get_training_data(101, 2400)\n",
    "\n",
    "test_data = get_training_data(1, 101)"
   ]
  },
  {
   "cell_type": "markdown",
   "metadata": {},
   "source": [
    "## Machine Learning"
   ]
  },
  {
   "cell_type": "code",
   "execution_count": null,
   "metadata": {},
   "outputs": [],
   "source": [
    "import numpy as np\n",
    "from sklearn.model_selection import train_test_split\n",
    "from keras.preprocessing.sequence import pad_sequences"
   ]
  },
  {
   "cell_type": "code",
   "execution_count": null,
   "metadata": {},
   "outputs": [],
   "source": [
    "labels = ['number', 'fizz','buzz','fizzbuzz']\n",
    "sequence_length =4\n",
    "\n",
    "\n",
    "def convert_to_vector(num):\n",
    "    n = num\n",
    "    out = []\n",
    "    while n > 0:\n",
    "        out.append(n%10)\n",
    "        n //= 10\n",
    "    \n",
    "    return out[::-1]\n",
    "\n",
    "def convert_to_int(label):\n",
    "    if label in labels:\n",
    "        return labels.index(label)\n",
    "    else:\n",
    "        return 0\n",
    "\n",
    "def fizz_buzz_pred(i, prediction):\n",
    "    return [str(i), \"fizz\", \"buzz\", \"fizzbuzz\"][prediction]\n",
    "\n",
    "\n",
    "def convert_list_to_vector(data):\n",
    "    out = np.array([convert_to_vector(x) for x in data],dtype=object)\n",
    "    return pad_sequences(out, maxlen=sequence_length)\n",
    "\n",
    "def convert_list_to_int(data):\n",
    "    return np.array([convert_to_int(x) for x in data])"
   ]
  },
  {
   "cell_type": "code",
   "execution_count": null,
   "metadata": {},
   "outputs": [],
   "source": [
    "X = convert_list_to_vector(data.keys())\n",
    "y = convert_list_to_int(data.values())"
   ]
  },
  {
   "cell_type": "code",
   "execution_count": null,
   "metadata": {},
   "outputs": [],
   "source": [
    "X_train, X_test, y_train, y_test = train_test_split(X,y, test_size=0.2,shuffle=True)"
   ]
  },
  {
   "cell_type": "code",
   "execution_count": null,
   "metadata": {},
   "outputs": [
    {
     "data": {
      "text/plain": [
       "(array([[2, 3, 3, 0],\n",
       "        [1, 1, 0, 5],\n",
       "        [0, 1, 3, 5],\n",
       "        [1, 9, 0, 4],\n",
       "        [0, 9, 1, 0]], dtype=int32),\n",
       " array([2, 2, 3, 0, 2]))"
      ]
     },
     "execution_count": null,
     "metadata": {},
     "output_type": "execute_result"
    }
   ],
   "source": [
    "X_train[:5],y_train[:5]"
   ]
  },
  {
   "cell_type": "markdown",
   "metadata": {},
   "source": [
    "## Training"
   ]
  },
  {
   "cell_type": "code",
   "execution_count": null,
   "metadata": {},
   "outputs": [],
   "source": [
    "import tensorflow as tf\n",
    "from tensorflow.keras.layers import *\n",
    "\n",
    "from keras_lr_finder import LRFinder\n",
    "from keras_contrib.callbacks.cyclical_learning_rate import CyclicLR\n",
    "from tensorflow.keras.optimizers import SGD\n",
    "import tensorflow_addons as tfa\n",
    "\n",
    "from tqdm.keras import TqdmCallback\n",
    "from keras_tqdm import TQDMCallback, TQDMNotebookCallback\n"
   ]
  },
  {
   "cell_type": "code",
   "execution_count": null,
   "metadata": {},
   "outputs": [],
   "source": [
    "\n",
    "embed_size = 3\n",
    "model = tf.keras.Sequential()\n",
    "model.add(Input(shape=(sequence_length,)))\n",
    "\n",
    "model.add(Embedding(10, embed_size, trainable=True ))\n",
    "\n",
    "model.add(Conv1D(64, kernel_size=2, padding='same',kernel_initializer=tf.keras.initializers.HeNormal(), activation='relu'))\n",
    "model.add(MaxPool1D(pool_size=3, strides=1, padding='valid'))\n",
    "model.add(GlobalAveragePooling1D())\n",
    "model.add(Dense(32, activation='relu',kernel_initializer=tf.keras.initializers.HeNormal()))\n",
    "model.add(Dropout(0.2))\n",
    "model.add(Dense(4, activation='softmax'))\n",
    "\n",
    "model.compile(loss='sparse_categorical_crossentropy', optimizer='rmsprop', metrics=['sparse_categorical_accuracy'])"
   ]
  },
  {
   "cell_type": "code",
   "execution_count": null,
   "metadata": {},
   "outputs": [
    {
     "name": "stdout",
     "output_type": "stream",
     "text": [
      "Epoch 1/2\n",
      "29/29 [==============================] - 0s 2ms/step - loss: 1.2888 - sparse_categorical_accuracy: 0.3997\n",
      "Epoch 2/2\n",
      "29/29 [==============================] - 0s 468us/step - loss: 27.6597 - sparse_categorical_accuracy: 0.4643\n"
     ]
    },
    {
     "data": {
      "image/png": "[encoded data removed]",
      "text/plain": [
       "<Figure size 432x288 with 1 Axes>"
      ]
     },
     "metadata": {
      "needs_background": "light"
     },
     "output_type": "display_data"
    }
   ],
   "source": [
    "lr_finder = LRFinder(model)\n",
    "\n",
    "lr_finder.find(X_train, y_train, start_lr=1e-4, end_lr=100, batch_size=64,epochs=2)\n",
    "\n",
    "lr_finder.plot_loss()\n"
   ]
  },
  {
   "cell_type": "code",
   "execution_count": null,
   "metadata": {},
   "outputs": [],
   "source": [
    "ACCURACY_THRESHOLD = 0.999\n",
    "class myCallback(tf.keras.callbacks.Callback):\n",
    "    \"\"\" Callback to update the parent bar and also stop the training after reaching 99% accuracy \"\"\"\n",
    "    \n",
    "    def __init__(self, tqdm_callback, print_n=100):\n",
    "        self.print_n = print_n\n",
    "        self.tqdm_callback = tqdm_callback\n",
    "        \n",
    "    def on_epoch_end(self, epoch, logs={}):\n",
    "        self.params = {'metrics':['loss']}\n",
    "        if(logs.get('val_sparse_categorical_accuracy') > ACCURACY_THRESHOLD):\n",
    "            print('Reached %2.2f%% accuracy, on the epoch %d so stopping training' %(ACCURACY_THRESHOLD, epoch))\n",
    "            self.model.stop_training=True\n",
    "            \n",
    "        if epoch % self.print_n == 0:\n",
    "            self.tqdm_callback.tqdm_outer.desc = \"Val Acc / epoch: {} / {}\".format(logs.get('val_sparse_categorical_accuracy'), epoch)\n",
    "            self.tqdm_callback.tqdm_outer.update(1)"
   ]
  },
  {
   "cell_type": "code",
   "execution_count": null,
   "metadata": {},
   "outputs": [
    {
     "data": {
      "application/vnd.jupyter.widget-view+json": {
       "model_id": "c260032bda604c2eaf472e02b29a60d2",
       "version_major": 2,
       "version_minor": 0
      },
      "text/plain": [
       "Training:   0%|          | 0/4000 [00:00<?, ?it/s]"
      ]
     },
     "metadata": {},
     "output_type": "display_data"
    },
    {
     "name": "stdout",
     "output_type": "stream",
     "text": [
      "Reached 1.00% accuracy, on the epoch 54 so stopping training\n"
     ]
    },
    {
     "data": {
      "text/plain": [
       "<keras.callbacks.History at 0x7fa35042dd90>"
      ]
     },
     "execution_count": null,
     "metadata": {},
     "output_type": "execute_result"
    }
   ],
   "source": [
    "\n",
    "\n",
    "tqdm_callback = TQDMNotebookCallback(leave_inner=False, show_inner=False,show_outer=True)\n",
    "callbacks = myCallback(tqdm_callback, print_n=10)\n",
    "# 3. Fit using Callback\n",
    "clr = CyclicLR(base_lr = 0.001, max_lr = 0.01, step_size=1000, mode='triangular')\n",
    "#model.fit(X_train, y_train, batch_size = 128, epochs=2, callbacks= [lr_finder])\n",
    "\n",
    "model.fit(X_train, y_train, validation_data=(X_test, y_test), callbacks=[callbacks,clr,tqdm_callback], verbose=0, epochs=4000, batch_size=64)"
   ]
  },
  {
   "cell_type": "code",
   "execution_count": null,
   "metadata": {},
   "outputs": [
    {
     "name": "stdout",
     "output_type": "stream",
     "text": [
      "4/4 [==============================] - 0s 1ms/step - loss: 0.0193 - sparse_categorical_accuracy: 1.0000\n"
     ]
    },
    {
     "data": {
      "text/plain": [
       "[0.01926736906170845, 1.0]"
      ]
     },
     "execution_count": null,
     "metadata": {},
     "output_type": "execute_result"
    }
   ],
   "source": [
    "model.evaluate(X_test, y_test)"
   ]
  },
  {
   "cell_type": "markdown",
   "metadata": {},
   "source": [
    "## Evaluation"
   ]
  },
  {
   "cell_type": "code",
   "execution_count": null,
   "metadata": {},
   "outputs": [],
   "source": [
    "X_test = convert_list_to_vector(test_data.keys())\n",
    "y_test = convert_list_to_int(test_data.values())"
   ]
  },
  {
   "cell_type": "code",
   "execution_count": null,
   "metadata": {},
   "outputs": [
    {
     "name": "stdout",
     "output_type": "stream",
     "text": [
      "4/4 [==============================] - 0s 1ms/step - loss: 0.0193 - sparse_categorical_accuracy: 1.0000\n"
     ]
    },
    {
     "data": {
      "text/plain": [
       "[0.01926736906170845, 1.0]"
      ]
     },
     "execution_count": null,
     "metadata": {},
     "output_type": "execute_result"
    }
   ],
   "source": [
    "model.evaluate(X_test, y_test)"
   ]
  },
  {
   "cell_type": "code",
   "execution_count": null,
   "metadata": {},
   "outputs": [
    {
     "name": "stdout",
     "output_type": "stream",
     "text": [
      "1 1 1 0.9999939\n",
      "2 2 2 1.0\n",
      "3 fizz fizz 0.8921745\n",
      "4 4 4 0.9999964\n",
      "5 buzz buzz 0.9999999\n",
      "6 fizz fizz 0.97546935\n",
      "7 7 7 0.9999838\n",
      "8 8 8 1.0\n",
      "9 fizz fizz 0.9918276\n",
      "10 buzz buzz 1.0\n",
      "11 11 11 0.99862516\n",
      "12 fizz fizz 0.96120465\n",
      "13 13 13 1.0\n",
      "14 14 14 0.9994443\n",
      "15 fizzbuzz fizzbuzz 0.973569\n",
      "16 16 16 1.0\n",
      "17 17 17 0.9992423\n",
      "18 fizz fizz 0.96867096\n",
      "19 19 19 1.0\n",
      "20 buzz buzz 1.0\n",
      "21 fizz fizz 0.9952963\n",
      "22 22 22 1.0\n",
      "23 23 23 1.0\n",
      "24 fizz fizz 0.9864107\n",
      "25 buzz buzz 0.99964535\n",
      "26 26 26 1.0\n",
      "27 fizz fizz 0.98947936\n",
      "28 28 28 1.0\n",
      "29 29 29 1.0\n",
      "30 fizzbuzz fizzbuzz 0.9998398\n",
      "31 31 31 0.8273142\n",
      "32 32 32 1.0\n",
      "33 fizz fizz 0.99971443\n",
      "34 34 34 0.95565426\n",
      "35 buzz buzz 1.0\n",
      "36 fizz fizz 0.9998672\n",
      "37 37 37 0.95040554\n",
      "38 38 38 1.0\n",
      "39 fizz fizz 0.9999325\n",
      "40 buzz buzz 1.0\n",
      "41 41 41 0.999345\n",
      "42 fizz fizz 0.9749287\n",
      "43 43 43 1.0\n",
      "44 44 44 0.9998099\n",
      "45 fizzbuzz fizzbuzz 0.9845994\n",
      "46 46 46 1.0\n",
      "47 47 47 0.99976116\n",
      "48 fizz fizz 0.9781506\n",
      "49 49 49 1.0\n",
      "50 buzz buzz 1.0\n",
      "51 fizz fizz 0.9736729\n",
      "52 52 52 0.83498245\n",
      "53 53 53 1.0\n",
      "54 fizz fizz 0.9149144\n",
      "55 buzz buzz 0.9981505\n",
      "56 56 56 1.0\n",
      "57 fizz fizz 0.8501012\n",
      "58 58 58 0.83482456\n",
      "59 59 59 1.0\n",
      "60 fizzbuzz fizzbuzz 0.9999052\n",
      "61 61 61 0.8138333\n",
      "62 62 62 1.0\n",
      "63 fizz fizz 0.999843\n",
      "64 64 64 0.9319943\n",
      "65 buzz buzz 0.9999999\n",
      "66 fizz fizz 0.99992704\n",
      "67 67 67 0.9252041\n",
      "68 68 68 1.0\n",
      "69 fizz fizz 0.9999629\n",
      "70 buzz buzz 1.0\n",
      "71 71 71 0.99933857\n",
      "72 fizz fizz 0.9744196\n",
      "73 73 73 1.0\n",
      "74 74 74 0.999803\n",
      "75 fizzbuzz fizzbuzz 0.9918834\n",
      "76 76 76 1.0\n",
      "77 77 77 0.99974555\n",
      "78 fizz fizz 0.97770554\n",
      "79 79 79 1.0\n",
      "80 buzz buzz 1.0\n",
      "81 fizz fizz 0.99513125\n",
      "82 82 82 0.9999999\n",
      "83 83 83 1.0\n",
      "84 fizz fizz 0.990973\n",
      "85 buzz buzz 0.9980732\n",
      "86 86 86 1.0\n",
      "87 fizz fizz 0.99355316\n",
      "88 88 88 0.9999999\n",
      "89 89 89 1.0\n",
      "90 fizzbuzz fizzbuzz 0.99995303\n",
      "91 91 91 0.8654511\n",
      "92 92 92 1.0\n",
      "93 fizz fizz 0.99994063\n",
      "94 94 94 0.96421194\n",
      "95 buzz buzz 0.99999964\n",
      "96 fizz fizz 0.9999747\n",
      "97 97 97 0.9584721\n",
      "98 98 98 1.0\n",
      "99 fizz fizz 0.99998605\n",
      "100 buzz buzz 1.0\n",
      "Accuracy = 1.0\n"
     ]
    }
   ],
   "source": [
    "inputs = np.array(list(range(1,101)))\n",
    "input_vector = list(map(convert_to_vector, inputs))\n",
    "input_vector = pad_sequences(np.array(input_vector, dtype=object), maxlen=sequence_length)\n",
    "\n",
    "predictions = model(input_vector).numpy()\n",
    "\n",
    "\n",
    "def convert_fb(num):\n",
    "    if num % 15 == 0:\n",
    "        return \"fizzbuzz\"\n",
    "    \n",
    "    elif num % 3 == 0:\n",
    "        return \"fizz\"\n",
    "    \n",
    "    elif num % 5 == 0:\n",
    "        return \"buzz\"\n",
    "    \n",
    "    else:\n",
    "        return str(num)\n",
    "    \n",
    "acc = 0\n",
    "total = 0\n",
    "for i,inp in enumerate(inputs):\n",
    "    pred = np.argmax(predictions[i])\n",
    "    print(inp, fizz_buzz_pred(inp, pred), convert_fb(inp), predictions[i][pred])\n",
    "    \n",
    "    acc += 1 if fizz_buzz_pred(inp, pred) == convert_fb(inp) else 0\n",
    "    total += 1\n",
    "    \n",
    "print(f'Accuracy = {acc*1.0 / total}')\n",
    "    \n",
    "    "
   ]
  },
  {
   "cell_type": "code",
   "execution_count": null,
   "metadata": {},
   "outputs": [],
   "source": []
  }
 ],
 "metadata": {
  "kernelspec": {
   "display_name": "Python 3.9.5 64-bit ('venv': virtualenv)",
   "language": "python",
   "name": "python3"
  }
 },
 "nbformat": 4,
 "nbformat_minor": 2
}
